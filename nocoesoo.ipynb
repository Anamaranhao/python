{
  "nbformat": 4,
  "nbformat_minor": 0,
  "metadata": {
    "colab": {
      "provenance": [],
      "authorship_tag": "ABX9TyNwLBLTAO6GT2ijHK/RY7Rx",
      "include_colab_link": true
    },
    "kernelspec": {
      "name": "python3",
      "display_name": "Python 3"
    },
    "language_info": {
      "name": "python"
    }
  },
  "cells": [
    {
      "cell_type": "markdown",
      "metadata": {
        "id": "view-in-github",
        "colab_type": "text"
      },
      "source": [
        "<a href=\"https://colab.research.google.com/github/Anamaranhao/python/blob/main/nocoesoo.ipynb\" target=\"_parent\"><img src=\"https://colab.research.google.com/assets/colab-badge.svg\" alt=\"Open In Colab\"/></a>"
      ]
    },
    {
      "cell_type": "code",
      "execution_count": 25,
      "metadata": {
        "colab": {
          "base_uri": "https://localhost:8080/"
        },
        "id": "ZqtMb8fHHS49",
        "outputId": "8f56edbe-cfc1-4b90-fbb2-8cb9465ef50e"
      },
      "outputs": [
        {
          "output_type": "execute_result",
          "data": {
            "text/plain": [
              "10"
            ]
          },
          "metadata": {},
          "execution_count": 25
        }
      ],
      "source": [
        "# ETE Cicero Dias\n",
        "# Prof. Cloves\n",
        "# Pyton Noções Orientações Objeto\n",
        "# Estudante: Ana Paula Maranhão\n",
        "\n",
        "def __init__(self):\n",
        "    self._nrodas = 4\n",
        "def set_nrodas(self, n):\n",
        "    self._nrodas = n\n",
        "gol = Carro()\n",
        "gol._nrodas\n",
        "\n",
        "gol.set_nrodas(10)\n",
        "gol._nrodas\n",
        "\n",
        "# imprimi o objeto...\n",
        "#c = Carro()\n",
        "#print(c)\n",
        "\n",
        "\n"
      ]
    },
    {
      "cell_type": "code",
      "source": [
        "class Carro:\n",
        "  def __init__(self):\n",
        "    self._nrodas = 4\n",
        "  def set_nrodas(self, n):\n",
        "    self._nrodas = n\n",
        "gol = Carro()\n",
        "gol._nrodas\n",
        "\n",
        "gol.set_nrodas(10)\n",
        "gol._nrodas\n",
        "\n",
        "# imprimi o objeto...\n",
        "#c = Carro()\n",
        "#print(c)"
      ],
      "metadata": {
        "colab": {
          "base_uri": "https://localhost:8080/"
        },
        "id": "Fi77E6mXLgiY",
        "outputId": "8d1f3022-f5ae-41e3-b861-29de032de502"
      },
      "execution_count": 20,
      "outputs": [
        {
          "output_type": "execute_result",
          "data": {
            "text/plain": [
              "10"
            ]
          },
          "metadata": {},
          "execution_count": 20
        }
      ]
    }
  ]
}